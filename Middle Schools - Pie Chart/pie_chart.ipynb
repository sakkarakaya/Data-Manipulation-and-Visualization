{
 "cells": [
  {
   "cell_type": "code",
   "execution_count": 1,
   "metadata": {},
   "outputs": [
    {
     "output_type": "execute_result",
     "data": {
      "text/plain": [
       "                             name  school_rating   size  reduced_lunch  \\\n",
       "0     Allendale Elementary School            5.0  851.0           10.0   \n",
       "1             Anderson Elementary            2.0  412.0           71.0   \n",
       "2                Avoca Elementary            4.0  482.0           43.0   \n",
       "3                   Bailey Middle            0.0  394.0           91.0   \n",
       "4             Barfield Elementary            4.0  948.0           26.0   \n",
       "..                            ...            ...    ...            ...   \n",
       "342  Winfree Bryant Middle School            3.0  611.0           57.0   \n",
       "343    Winstead Elementary School            5.0  515.0            8.0   \n",
       "344           Woodland Elementary            4.0  424.0           55.0   \n",
       "345        Woodland Middle School            5.0  866.0            2.0   \n",
       "346                 Wright Middle            0.0  829.0           89.0   \n",
       "\n",
       "     state_percentile_16  state_percentile_15  stu_teach_ratio    school_type  \\\n",
       "0                   90.2                 95.8             15.7         Public   \n",
       "1                   32.8                 37.3             12.8         Public   \n",
       "2                   78.4                 83.6             16.6         Public   \n",
       "3                    1.6                  1.0             13.1  Public Magnet   \n",
       "4                   85.3                 89.2             14.8         Public   \n",
       "..                   ...                  ...              ...            ...   \n",
       "342                 59.1                 65.2             16.9         Public   \n",
       "343                 93.9                 97.0             14.3         Public   \n",
       "344                 84.8                 76.7             14.1         Public   \n",
       "345                 93.3                 97.1             19.2         Public   \n",
       "346                  4.5                  1.2             16.5         Public   \n",
       "\n",
       "     avg_score_15  avg_score_16  full_time_teachers  percent_black  \\\n",
       "0            89.4          85.2                54.0            2.9   \n",
       "1            43.0          38.3                32.0            3.9   \n",
       "2            75.7          73.0                29.0            1.0   \n",
       "3             2.1           4.4                30.0           80.7   \n",
       "4            81.3          79.6                64.0           11.8   \n",
       "..            ...           ...                 ...            ...   \n",
       "342          61.4          57.7                36.0           15.2   \n",
       "343          92.0          89.3                36.0            3.3   \n",
       "344          69.4          79.4                30.0           11.6   \n",
       "345          89.8          84.9                45.0            4.5   \n",
       "346           2.7           9.6                50.0           22.3   \n",
       "\n",
       "     percent_white  percent_asian  percent_hispanic  \n",
       "0             85.5            1.6               5.6  \n",
       "1             86.7            1.0               4.9  \n",
       "2             91.5            1.2               4.4  \n",
       "3             11.7            2.3               4.3  \n",
       "4             71.2            7.1               6.0  \n",
       "..             ...            ...               ...  \n",
       "342           66.3            1.5              15.7  \n",
       "343           87.4            3.1               4.1  \n",
       "344           70.5            2.1               9.7  \n",
       "345           77.6           10.0               4.4  \n",
       "346           21.0            6.6              49.5  \n",
       "\n",
       "[347 rows x 15 columns]"
      ],
      "text/html": "<div>\n<style scoped>\n    .dataframe tbody tr th:only-of-type {\n        vertical-align: middle;\n    }\n\n    .dataframe tbody tr th {\n        vertical-align: top;\n    }\n\n    .dataframe thead th {\n        text-align: right;\n    }\n</style>\n<table border=\"1\" class=\"dataframe\">\n  <thead>\n    <tr style=\"text-align: right;\">\n      <th></th>\n      <th>name</th>\n      <th>school_rating</th>\n      <th>size</th>\n      <th>reduced_lunch</th>\n      <th>state_percentile_16</th>\n      <th>state_percentile_15</th>\n      <th>stu_teach_ratio</th>\n      <th>school_type</th>\n      <th>avg_score_15</th>\n      <th>avg_score_16</th>\n      <th>full_time_teachers</th>\n      <th>percent_black</th>\n      <th>percent_white</th>\n      <th>percent_asian</th>\n      <th>percent_hispanic</th>\n    </tr>\n  </thead>\n  <tbody>\n    <tr>\n      <td>0</td>\n      <td>Allendale Elementary School</td>\n      <td>5.0</td>\n      <td>851.0</td>\n      <td>10.0</td>\n      <td>90.2</td>\n      <td>95.8</td>\n      <td>15.7</td>\n      <td>Public</td>\n      <td>89.4</td>\n      <td>85.2</td>\n      <td>54.0</td>\n      <td>2.9</td>\n      <td>85.5</td>\n      <td>1.6</td>\n      <td>5.6</td>\n    </tr>\n    <tr>\n      <td>1</td>\n      <td>Anderson Elementary</td>\n      <td>2.0</td>\n      <td>412.0</td>\n      <td>71.0</td>\n      <td>32.8</td>\n      <td>37.3</td>\n      <td>12.8</td>\n      <td>Public</td>\n      <td>43.0</td>\n      <td>38.3</td>\n      <td>32.0</td>\n      <td>3.9</td>\n      <td>86.7</td>\n      <td>1.0</td>\n      <td>4.9</td>\n    </tr>\n    <tr>\n      <td>2</td>\n      <td>Avoca Elementary</td>\n      <td>4.0</td>\n      <td>482.0</td>\n      <td>43.0</td>\n      <td>78.4</td>\n      <td>83.6</td>\n      <td>16.6</td>\n      <td>Public</td>\n      <td>75.7</td>\n      <td>73.0</td>\n      <td>29.0</td>\n      <td>1.0</td>\n      <td>91.5</td>\n      <td>1.2</td>\n      <td>4.4</td>\n    </tr>\n    <tr>\n      <td>3</td>\n      <td>Bailey Middle</td>\n      <td>0.0</td>\n      <td>394.0</td>\n      <td>91.0</td>\n      <td>1.6</td>\n      <td>1.0</td>\n      <td>13.1</td>\n      <td>Public Magnet</td>\n      <td>2.1</td>\n      <td>4.4</td>\n      <td>30.0</td>\n      <td>80.7</td>\n      <td>11.7</td>\n      <td>2.3</td>\n      <td>4.3</td>\n    </tr>\n    <tr>\n      <td>4</td>\n      <td>Barfield Elementary</td>\n      <td>4.0</td>\n      <td>948.0</td>\n      <td>26.0</td>\n      <td>85.3</td>\n      <td>89.2</td>\n      <td>14.8</td>\n      <td>Public</td>\n      <td>81.3</td>\n      <td>79.6</td>\n      <td>64.0</td>\n      <td>11.8</td>\n      <td>71.2</td>\n      <td>7.1</td>\n      <td>6.0</td>\n    </tr>\n    <tr>\n      <td>...</td>\n      <td>...</td>\n      <td>...</td>\n      <td>...</td>\n      <td>...</td>\n      <td>...</td>\n      <td>...</td>\n      <td>...</td>\n      <td>...</td>\n      <td>...</td>\n      <td>...</td>\n      <td>...</td>\n      <td>...</td>\n      <td>...</td>\n      <td>...</td>\n      <td>...</td>\n    </tr>\n    <tr>\n      <td>342</td>\n      <td>Winfree Bryant Middle School</td>\n      <td>3.0</td>\n      <td>611.0</td>\n      <td>57.0</td>\n      <td>59.1</td>\n      <td>65.2</td>\n      <td>16.9</td>\n      <td>Public</td>\n      <td>61.4</td>\n      <td>57.7</td>\n      <td>36.0</td>\n      <td>15.2</td>\n      <td>66.3</td>\n      <td>1.5</td>\n      <td>15.7</td>\n    </tr>\n    <tr>\n      <td>343</td>\n      <td>Winstead Elementary School</td>\n      <td>5.0</td>\n      <td>515.0</td>\n      <td>8.0</td>\n      <td>93.9</td>\n      <td>97.0</td>\n      <td>14.3</td>\n      <td>Public</td>\n      <td>92.0</td>\n      <td>89.3</td>\n      <td>36.0</td>\n      <td>3.3</td>\n      <td>87.4</td>\n      <td>3.1</td>\n      <td>4.1</td>\n    </tr>\n    <tr>\n      <td>344</td>\n      <td>Woodland Elementary</td>\n      <td>4.0</td>\n      <td>424.0</td>\n      <td>55.0</td>\n      <td>84.8</td>\n      <td>76.7</td>\n      <td>14.1</td>\n      <td>Public</td>\n      <td>69.4</td>\n      <td>79.4</td>\n      <td>30.0</td>\n      <td>11.6</td>\n      <td>70.5</td>\n      <td>2.1</td>\n      <td>9.7</td>\n    </tr>\n    <tr>\n      <td>345</td>\n      <td>Woodland Middle School</td>\n      <td>5.0</td>\n      <td>866.0</td>\n      <td>2.0</td>\n      <td>93.3</td>\n      <td>97.1</td>\n      <td>19.2</td>\n      <td>Public</td>\n      <td>89.8</td>\n      <td>84.9</td>\n      <td>45.0</td>\n      <td>4.5</td>\n      <td>77.6</td>\n      <td>10.0</td>\n      <td>4.4</td>\n    </tr>\n    <tr>\n      <td>346</td>\n      <td>Wright Middle</td>\n      <td>0.0</td>\n      <td>829.0</td>\n      <td>89.0</td>\n      <td>4.5</td>\n      <td>1.2</td>\n      <td>16.5</td>\n      <td>Public</td>\n      <td>2.7</td>\n      <td>9.6</td>\n      <td>50.0</td>\n      <td>22.3</td>\n      <td>21.0</td>\n      <td>6.6</td>\n      <td>49.5</td>\n    </tr>\n  </tbody>\n</table>\n<p>347 rows × 15 columns</p>\n</div>"
     },
     "metadata": {},
     "execution_count": 1
    }
   ],
   "source": [
    "import pandas as pd\n",
    "import matplotlib.pyplot as plt\n",
    "data = pd.read_csv('middle_tn_schools.csv')\n",
    "data"
   ]
  },
  {
   "cell_type": "code",
   "execution_count": 2,
   "metadata": {},
   "outputs": [
    {
     "output_type": "execute_result",
     "data": {
      "text/plain": [
       "                             name  school_rating   size  percent_black  \\\n",
       "0     Allendale Elementary School            5.0  851.0            2.9   \n",
       "1             Anderson Elementary            2.0  412.0            3.9   \n",
       "2                Avoca Elementary            4.0  482.0            1.0   \n",
       "3                   Bailey Middle            0.0  394.0           80.7   \n",
       "4             Barfield Elementary            4.0  948.0           11.8   \n",
       "..                            ...            ...    ...            ...   \n",
       "342  Winfree Bryant Middle School            3.0  611.0           15.2   \n",
       "343    Winstead Elementary School            5.0  515.0            3.3   \n",
       "344           Woodland Elementary            4.0  424.0           11.6   \n",
       "345        Woodland Middle School            5.0  866.0            4.5   \n",
       "346                 Wright Middle            0.0  829.0           22.3   \n",
       "\n",
       "     percent_white  percent_hispanic  percent_asian  \n",
       "0             85.5               5.6            1.6  \n",
       "1             86.7               4.9            1.0  \n",
       "2             91.5               4.4            1.2  \n",
       "3             11.7               4.3            2.3  \n",
       "4             71.2               6.0            7.1  \n",
       "..             ...               ...            ...  \n",
       "342           66.3              15.7            1.5  \n",
       "343           87.4               4.1            3.1  \n",
       "344           70.5               9.7            2.1  \n",
       "345           77.6               4.4           10.0  \n",
       "346           21.0              49.5            6.6  \n",
       "\n",
       "[347 rows x 7 columns]"
      ],
      "text/html": "<div>\n<style scoped>\n    .dataframe tbody tr th:only-of-type {\n        vertical-align: middle;\n    }\n\n    .dataframe tbody tr th {\n        vertical-align: top;\n    }\n\n    .dataframe thead th {\n        text-align: right;\n    }\n</style>\n<table border=\"1\" class=\"dataframe\">\n  <thead>\n    <tr style=\"text-align: right;\">\n      <th></th>\n      <th>name</th>\n      <th>school_rating</th>\n      <th>size</th>\n      <th>percent_black</th>\n      <th>percent_white</th>\n      <th>percent_hispanic</th>\n      <th>percent_asian</th>\n    </tr>\n  </thead>\n  <tbody>\n    <tr>\n      <td>0</td>\n      <td>Allendale Elementary School</td>\n      <td>5.0</td>\n      <td>851.0</td>\n      <td>2.9</td>\n      <td>85.5</td>\n      <td>5.6</td>\n      <td>1.6</td>\n    </tr>\n    <tr>\n      <td>1</td>\n      <td>Anderson Elementary</td>\n      <td>2.0</td>\n      <td>412.0</td>\n      <td>3.9</td>\n      <td>86.7</td>\n      <td>4.9</td>\n      <td>1.0</td>\n    </tr>\n    <tr>\n      <td>2</td>\n      <td>Avoca Elementary</td>\n      <td>4.0</td>\n      <td>482.0</td>\n      <td>1.0</td>\n      <td>91.5</td>\n      <td>4.4</td>\n      <td>1.2</td>\n    </tr>\n    <tr>\n      <td>3</td>\n      <td>Bailey Middle</td>\n      <td>0.0</td>\n      <td>394.0</td>\n      <td>80.7</td>\n      <td>11.7</td>\n      <td>4.3</td>\n      <td>2.3</td>\n    </tr>\n    <tr>\n      <td>4</td>\n      <td>Barfield Elementary</td>\n      <td>4.0</td>\n      <td>948.0</td>\n      <td>11.8</td>\n      <td>71.2</td>\n      <td>6.0</td>\n      <td>7.1</td>\n    </tr>\n    <tr>\n      <td>...</td>\n      <td>...</td>\n      <td>...</td>\n      <td>...</td>\n      <td>...</td>\n      <td>...</td>\n      <td>...</td>\n      <td>...</td>\n    </tr>\n    <tr>\n      <td>342</td>\n      <td>Winfree Bryant Middle School</td>\n      <td>3.0</td>\n      <td>611.0</td>\n      <td>15.2</td>\n      <td>66.3</td>\n      <td>15.7</td>\n      <td>1.5</td>\n    </tr>\n    <tr>\n      <td>343</td>\n      <td>Winstead Elementary School</td>\n      <td>5.0</td>\n      <td>515.0</td>\n      <td>3.3</td>\n      <td>87.4</td>\n      <td>4.1</td>\n      <td>3.1</td>\n    </tr>\n    <tr>\n      <td>344</td>\n      <td>Woodland Elementary</td>\n      <td>4.0</td>\n      <td>424.0</td>\n      <td>11.6</td>\n      <td>70.5</td>\n      <td>9.7</td>\n      <td>2.1</td>\n    </tr>\n    <tr>\n      <td>345</td>\n      <td>Woodland Middle School</td>\n      <td>5.0</td>\n      <td>866.0</td>\n      <td>4.5</td>\n      <td>77.6</td>\n      <td>4.4</td>\n      <td>10.0</td>\n    </tr>\n    <tr>\n      <td>346</td>\n      <td>Wright Middle</td>\n      <td>0.0</td>\n      <td>829.0</td>\n      <td>22.3</td>\n      <td>21.0</td>\n      <td>49.5</td>\n      <td>6.6</td>\n    </tr>\n  </tbody>\n</table>\n<p>347 rows × 7 columns</p>\n</div>"
     },
     "metadata": {},
     "execution_count": 2
    }
   ],
   "source": [
    "s_data=data[['name','school_rating','size','percent_black','percent_white','percent_hispanic','percent_asian']]\n",
    "s_data"
   ]
  },
  {
   "cell_type": "code",
   "execution_count": 3,
   "metadata": {},
   "outputs": [
    {
     "output_type": "execute_result",
     "data": {
      "text/plain": [
       "                                 name  school_rating    size  percent_black  \\\n",
       "266          Science Hill High School            5.0  2251.0           11.3   \n",
       "57              Dobyns - Bennett High            5.0  2090.0            6.3   \n",
       "200            Mt. Juliet High School            5.0  1993.0            1.7   \n",
       "77               Franklin High School            5.0  1747.0            2.5   \n",
       "20              Brentwood High School            5.0  1689.0            3.1   \n",
       "201          Mt. Juliet Middle School            5.0  1547.0            0.6   \n",
       "256              Rossview High School            5.0  1504.0           18.6   \n",
       "255               Rossview Elementary            5.0  1322.0           13.1   \n",
       "21            Brentwood Middle School            5.0  1261.0            3.2   \n",
       "181  Martin Luther King Junior School            5.0  1224.0           36.8   \n",
       "\n",
       "     percent_white  percent_hispanic  percent_asian  \n",
       "266           77.4               7.3            1.9  \n",
       "57            86.3               3.3            1.8  \n",
       "200           86.3               3.3            2.5  \n",
       "77            85.2               6.3            1.9  \n",
       "20            83.8               3.6            6.9  \n",
       "201           85.8               3.0            2.0  \n",
       "256           66.5               7.5            2.1  \n",
       "255           64.9              11.3            3.4  \n",
       "21            83.3               2.8            6.7  \n",
       "181           42.1               4.7           11.8  "
      ],
      "text/html": "<div>\n<style scoped>\n    .dataframe tbody tr th:only-of-type {\n        vertical-align: middle;\n    }\n\n    .dataframe tbody tr th {\n        vertical-align: top;\n    }\n\n    .dataframe thead th {\n        text-align: right;\n    }\n</style>\n<table border=\"1\" class=\"dataframe\">\n  <thead>\n    <tr style=\"text-align: right;\">\n      <th></th>\n      <th>name</th>\n      <th>school_rating</th>\n      <th>size</th>\n      <th>percent_black</th>\n      <th>percent_white</th>\n      <th>percent_hispanic</th>\n      <th>percent_asian</th>\n    </tr>\n  </thead>\n  <tbody>\n    <tr>\n      <td>266</td>\n      <td>Science Hill High School</td>\n      <td>5.0</td>\n      <td>2251.0</td>\n      <td>11.3</td>\n      <td>77.4</td>\n      <td>7.3</td>\n      <td>1.9</td>\n    </tr>\n    <tr>\n      <td>57</td>\n      <td>Dobyns - Bennett High</td>\n      <td>5.0</td>\n      <td>2090.0</td>\n      <td>6.3</td>\n      <td>86.3</td>\n      <td>3.3</td>\n      <td>1.8</td>\n    </tr>\n    <tr>\n      <td>200</td>\n      <td>Mt. Juliet High School</td>\n      <td>5.0</td>\n      <td>1993.0</td>\n      <td>1.7</td>\n      <td>86.3</td>\n      <td>3.3</td>\n      <td>2.5</td>\n    </tr>\n    <tr>\n      <td>77</td>\n      <td>Franklin High School</td>\n      <td>5.0</td>\n      <td>1747.0</td>\n      <td>2.5</td>\n      <td>85.2</td>\n      <td>6.3</td>\n      <td>1.9</td>\n    </tr>\n    <tr>\n      <td>20</td>\n      <td>Brentwood High School</td>\n      <td>5.0</td>\n      <td>1689.0</td>\n      <td>3.1</td>\n      <td>83.8</td>\n      <td>3.6</td>\n      <td>6.9</td>\n    </tr>\n    <tr>\n      <td>201</td>\n      <td>Mt. Juliet Middle School</td>\n      <td>5.0</td>\n      <td>1547.0</td>\n      <td>0.6</td>\n      <td>85.8</td>\n      <td>3.0</td>\n      <td>2.0</td>\n    </tr>\n    <tr>\n      <td>256</td>\n      <td>Rossview High School</td>\n      <td>5.0</td>\n      <td>1504.0</td>\n      <td>18.6</td>\n      <td>66.5</td>\n      <td>7.5</td>\n      <td>2.1</td>\n    </tr>\n    <tr>\n      <td>255</td>\n      <td>Rossview Elementary</td>\n      <td>5.0</td>\n      <td>1322.0</td>\n      <td>13.1</td>\n      <td>64.9</td>\n      <td>11.3</td>\n      <td>3.4</td>\n    </tr>\n    <tr>\n      <td>21</td>\n      <td>Brentwood Middle School</td>\n      <td>5.0</td>\n      <td>1261.0</td>\n      <td>3.2</td>\n      <td>83.3</td>\n      <td>2.8</td>\n      <td>6.7</td>\n    </tr>\n    <tr>\n      <td>181</td>\n      <td>Martin Luther King Junior School</td>\n      <td>5.0</td>\n      <td>1224.0</td>\n      <td>36.8</td>\n      <td>42.1</td>\n      <td>4.7</td>\n      <td>11.8</td>\n    </tr>\n  </tbody>\n</table>\n</div>"
     },
     "metadata": {},
     "execution_count": 3
    }
   ],
   "source": [
    "s_data.nlargest(10,['school_rating','size'])"
   ]
  },
  {
   "cell_type": "code",
   "execution_count": 4,
   "metadata": {},
   "outputs": [
    {
     "output_type": "execute_result",
     "data": {
      "text/plain": [
       "name                Allendale Elementary School\n",
       "school_rating                                 0\n",
       "size                                         53\n",
       "percent_black                                 0\n",
       "percent_white                               1.1\n",
       "percent_hispanic                              0\n",
       "percent_asian                                 0\n",
       "dtype: object"
      ]
     },
     "metadata": {},
     "execution_count": 4
    }
   ],
   "source": [
    "s_data.min(axis = 0) "
   ]
  },
  {
   "cell_type": "code",
   "execution_count": 5,
   "metadata": {},
   "outputs": [
    {
     "output_type": "execute_result",
     "data": {
      "text/plain": [
       "name                Wright Middle\n",
       "school_rating                   5\n",
       "size                         2314\n",
       "percent_black                97.4\n",
       "percent_white                99.7\n",
       "percent_hispanic             65.2\n",
       "percent_asian                21.1\n",
       "dtype: object"
      ]
     },
     "metadata": {},
     "execution_count": 5
    }
   ],
   "source": [
    "s_data.max(axis = 0) "
   ]
  },
  {
   "cell_type": "code",
   "execution_count": 6,
   "metadata": {},
   "outputs": [
    {
     "output_type": "execute_result",
     "data": {
      "text/plain": [
       "699"
      ]
     },
     "metadata": {},
     "execution_count": 6
    }
   ],
   "source": [
    "int(s_data['size'].mean())"
   ]
  },
  {
   "cell_type": "code",
   "execution_count": 7,
   "metadata": {},
   "outputs": [],
   "source": [
    "size=[]\n",
    "size.append(int(sum(s_data['size']*s_data['percent_black'])))\n",
    "size.append(int(sum(s_data['size']*s_data['percent_white'])))\n",
    "size.append(int(sum(s_data['size']*s_data['percent_asian'])))\n",
    "size.append(int(sum(s_data['size']*s_data['percent_hispanic'])))"
   ]
  },
  {
   "cell_type": "code",
   "execution_count": 8,
   "metadata": {},
   "outputs": [
    {
     "output_type": "execute_result",
     "data": {
      "text/plain": [
       "[4660428, 15358232, 724814, 2680377]"
      ]
     },
     "metadata": {},
     "execution_count": 8
    }
   ],
   "source": [
    "size"
   ]
  },
  {
   "cell_type": "code",
   "execution_count": 9,
   "metadata": {},
   "outputs": [],
   "source": [
    "lala=['percent_black','percent_white','percent_asian','percent_hispanic']"
   ]
  },
  {
   "cell_type": "code",
   "execution_count": 10,
   "metadata": {},
   "outputs": [
    {
     "output_type": "display_data",
     "data": {
      "text/plain": "<Figure size 432x288 with 1 Axes>",
      "image/svg+xml": "<?xml version=\"1.0\" encoding=\"utf-8\" standalone=\"no\"?>\n<!DOCTYPE svg PUBLIC \"-//W3C//DTD SVG 1.1//EN\"\n  \"http://www.w3.org/Graphics/SVG/1.1/DTD/svg11.dtd\">\n<!-- Created with matplotlib (https://matplotlib.org/) -->\n<svg height=\"231.84pt\" version=\"1.1\" viewBox=\"0 0 354.099076 231.84\" width=\"354.099076pt\" xmlns=\"http://www.w3.org/2000/svg\" xmlns:xlink=\"http://www.w3.org/1999/xlink\">\n <defs>\n  <style type=\"text/css\">\n*{stroke-linecap:butt;stroke-linejoin:round;}\n  </style>\n </defs>\n <g id=\"figure_1\">\n  <g id=\"patch_1\">\n   <path d=\"M 0 231.84 \nL 354.099076 231.84 \nL 354.099076 0 \nL 0 0 \nz\n\" style=\"fill:none;\"/>\n  </g>\n  <g id=\"axes_1\">\n   <g id=\"patch_2\">\n    <path d=\"M 259.382937 115.92 \nC 259.382937 97.652267 253.627727 79.840673 242.938531 65.02679 \nC 232.249334 50.212907 217.159962 39.136529 199.823545 33.378167 \nL 172.406937 115.92 \nL 259.382937 115.92 \nz\n\" style=\"fill:#1f77b4;\"/>\n   </g>\n   <g id=\"patch_3\">\n    <path d=\"M 199.823545 33.378167 \nC 185.577181 28.646179 170.345463 27.682108 155.616169 30.580123 \nC 140.886874 33.478137 127.15571 40.140704 115.763886 49.91705 \nC 104.372062 59.693396 95.702964 72.254503 90.603356 86.373448 \nC 85.503749 100.492393 84.145257 115.69401 86.660574 130.493462 \nC 89.17589 145.292914 95.480364 159.192133 104.958196 170.833495 \nC 114.436028 182.474856 126.768247 191.466576 140.750289 196.930377 \nC 154.73233 202.394178 169.893635 204.146178 184.753303 202.015249 \nC 199.612971 199.884319 213.670908 193.942175 225.553987 184.769224 \nL 172.406937 115.92 \nL 199.823545 33.378167 \nz\n\" style=\"fill:#ff7f0e;\"/>\n   </g>\n   <g id=\"patch_4\">\n    <path d=\"M 225.553987 184.769224 \nC 227.785407 183.046715 229.931769 181.216742 231.98547 179.285787 \nC 234.039171 177.354832 235.997784 175.325177 237.854373 173.204009 \nL 172.406937 115.92 \nL 225.553987 184.769224 \nz\n\" style=\"fill:#2ca02c;\"/>\n   </g>\n   <g id=\"patch_5\">\n    <path d=\"M 237.854373 173.204009 \nC 244.737154 165.340378 250.146684 156.300264 253.823086 146.517962 \nC 257.499488 136.735659 259.382932 126.370366 259.382937 115.920037 \nL 172.406937 115.92 \nL 237.854373 173.204009 \nz\n\" style=\"fill:#d62728;\"/>\n   </g>\n   <g id=\"matplotlib.axis_1\"/>\n   <g id=\"matplotlib.axis_2\"/>\n   <g id=\"text_1\">\n    <!-- percent_black -->\n    <defs>\n     <path d=\"M 18.109375 8.203125 \nL 18.109375 -20.796875 \nL 9.078125 -20.796875 \nL 9.078125 54.6875 \nL 18.109375 54.6875 \nL 18.109375 46.390625 \nQ 20.953125 51.265625 25.265625 53.625 \nQ 29.59375 56 35.59375 56 \nQ 45.5625 56 51.78125 48.09375 \nQ 58.015625 40.1875 58.015625 27.296875 \nQ 58.015625 14.40625 51.78125 6.484375 \nQ 45.5625 -1.421875 35.59375 -1.421875 \nQ 29.59375 -1.421875 25.265625 0.953125 \nQ 20.953125 3.328125 18.109375 8.203125 \nz\nM 48.6875 27.296875 \nQ 48.6875 37.203125 44.609375 42.84375 \nQ 40.53125 48.484375 33.40625 48.484375 \nQ 26.265625 48.484375 22.1875 42.84375 \nQ 18.109375 37.203125 18.109375 27.296875 \nQ 18.109375 17.390625 22.1875 11.75 \nQ 26.265625 6.109375 33.40625 6.109375 \nQ 40.53125 6.109375 44.609375 11.75 \nQ 48.6875 17.390625 48.6875 27.296875 \nz\n\" id=\"DejaVuSans-112\"/>\n     <path d=\"M 56.203125 29.59375 \nL 56.203125 25.203125 \nL 14.890625 25.203125 \nQ 15.484375 15.921875 20.484375 11.0625 \nQ 25.484375 6.203125 34.421875 6.203125 \nQ 39.59375 6.203125 44.453125 7.46875 \nQ 49.3125 8.734375 54.109375 11.28125 \nL 54.109375 2.78125 \nQ 49.265625 0.734375 44.1875 -0.34375 \nQ 39.109375 -1.421875 33.890625 -1.421875 \nQ 20.796875 -1.421875 13.15625 6.1875 \nQ 5.515625 13.8125 5.515625 26.8125 \nQ 5.515625 40.234375 12.765625 48.109375 \nQ 20.015625 56 32.328125 56 \nQ 43.359375 56 49.78125 48.890625 \nQ 56.203125 41.796875 56.203125 29.59375 \nz\nM 47.21875 32.234375 \nQ 47.125 39.59375 43.09375 43.984375 \nQ 39.0625 48.390625 32.421875 48.390625 \nQ 24.90625 48.390625 20.390625 44.140625 \nQ 15.875 39.890625 15.1875 32.171875 \nz\n\" id=\"DejaVuSans-101\"/>\n     <path d=\"M 41.109375 46.296875 \nQ 39.59375 47.171875 37.8125 47.578125 \nQ 36.03125 48 33.890625 48 \nQ 26.265625 48 22.1875 43.046875 \nQ 18.109375 38.09375 18.109375 28.8125 \nL 18.109375 0 \nL 9.078125 0 \nL 9.078125 54.6875 \nL 18.109375 54.6875 \nL 18.109375 46.1875 \nQ 20.953125 51.171875 25.484375 53.578125 \nQ 30.03125 56 36.53125 56 \nQ 37.453125 56 38.578125 55.875 \nQ 39.703125 55.765625 41.0625 55.515625 \nz\n\" id=\"DejaVuSans-114\"/>\n     <path d=\"M 48.78125 52.59375 \nL 48.78125 44.1875 \nQ 44.96875 46.296875 41.140625 47.34375 \nQ 37.3125 48.390625 33.40625 48.390625 \nQ 24.65625 48.390625 19.8125 42.84375 \nQ 14.984375 37.3125 14.984375 27.296875 \nQ 14.984375 17.28125 19.8125 11.734375 \nQ 24.65625 6.203125 33.40625 6.203125 \nQ 37.3125 6.203125 41.140625 7.25 \nQ 44.96875 8.296875 48.78125 10.40625 \nL 48.78125 2.09375 \nQ 45.015625 0.34375 40.984375 -0.53125 \nQ 36.96875 -1.421875 32.421875 -1.421875 \nQ 20.0625 -1.421875 12.78125 6.34375 \nQ 5.515625 14.109375 5.515625 27.296875 \nQ 5.515625 40.671875 12.859375 48.328125 \nQ 20.21875 56 33.015625 56 \nQ 37.15625 56 41.109375 55.140625 \nQ 45.0625 54.296875 48.78125 52.59375 \nz\n\" id=\"DejaVuSans-99\"/>\n     <path d=\"M 54.890625 33.015625 \nL 54.890625 0 \nL 45.90625 0 \nL 45.90625 32.71875 \nQ 45.90625 40.484375 42.875 44.328125 \nQ 39.84375 48.1875 33.796875 48.1875 \nQ 26.515625 48.1875 22.3125 43.546875 \nQ 18.109375 38.921875 18.109375 30.90625 \nL 18.109375 0 \nL 9.078125 0 \nL 9.078125 54.6875 \nL 18.109375 54.6875 \nL 18.109375 46.1875 \nQ 21.34375 51.125 25.703125 53.5625 \nQ 30.078125 56 35.796875 56 \nQ 45.21875 56 50.046875 50.171875 \nQ 54.890625 44.34375 54.890625 33.015625 \nz\n\" id=\"DejaVuSans-110\"/>\n     <path d=\"M 18.3125 70.21875 \nL 18.3125 54.6875 \nL 36.8125 54.6875 \nL 36.8125 47.703125 \nL 18.3125 47.703125 \nL 18.3125 18.015625 \nQ 18.3125 11.328125 20.140625 9.421875 \nQ 21.96875 7.515625 27.59375 7.515625 \nL 36.8125 7.515625 \nL 36.8125 0 \nL 27.59375 0 \nQ 17.1875 0 13.234375 3.875 \nQ 9.28125 7.765625 9.28125 18.015625 \nL 9.28125 47.703125 \nL 2.6875 47.703125 \nL 2.6875 54.6875 \nL 9.28125 54.6875 \nL 9.28125 70.21875 \nz\n\" id=\"DejaVuSans-116\"/>\n     <path d=\"M 50.984375 -16.609375 \nL 50.984375 -23.578125 \nL -0.984375 -23.578125 \nL -0.984375 -16.609375 \nz\n\" id=\"DejaVuSans-95\"/>\n     <path d=\"M 48.6875 27.296875 \nQ 48.6875 37.203125 44.609375 42.84375 \nQ 40.53125 48.484375 33.40625 48.484375 \nQ 26.265625 48.484375 22.1875 42.84375 \nQ 18.109375 37.203125 18.109375 27.296875 \nQ 18.109375 17.390625 22.1875 11.75 \nQ 26.265625 6.109375 33.40625 6.109375 \nQ 40.53125 6.109375 44.609375 11.75 \nQ 48.6875 17.390625 48.6875 27.296875 \nz\nM 18.109375 46.390625 \nQ 20.953125 51.265625 25.265625 53.625 \nQ 29.59375 56 35.59375 56 \nQ 45.5625 56 51.78125 48.09375 \nQ 58.015625 40.1875 58.015625 27.296875 \nQ 58.015625 14.40625 51.78125 6.484375 \nQ 45.5625 -1.421875 35.59375 -1.421875 \nQ 29.59375 -1.421875 25.265625 0.953125 \nQ 20.953125 3.328125 18.109375 8.203125 \nL 18.109375 0 \nL 9.078125 0 \nL 9.078125 75.984375 \nL 18.109375 75.984375 \nz\n\" id=\"DejaVuSans-98\"/>\n     <path d=\"M 9.421875 75.984375 \nL 18.40625 75.984375 \nL 18.40625 0 \nL 9.421875 0 \nz\n\" id=\"DejaVuSans-108\"/>\n     <path d=\"M 34.28125 27.484375 \nQ 23.390625 27.484375 19.1875 25 \nQ 14.984375 22.515625 14.984375 16.5 \nQ 14.984375 11.71875 18.140625 8.90625 \nQ 21.296875 6.109375 26.703125 6.109375 \nQ 34.1875 6.109375 38.703125 11.40625 \nQ 43.21875 16.703125 43.21875 25.484375 \nL 43.21875 27.484375 \nz\nM 52.203125 31.203125 \nL 52.203125 0 \nL 43.21875 0 \nL 43.21875 8.296875 \nQ 40.140625 3.328125 35.546875 0.953125 \nQ 30.953125 -1.421875 24.3125 -1.421875 \nQ 15.921875 -1.421875 10.953125 3.296875 \nQ 6 8.015625 6 15.921875 \nQ 6 25.140625 12.171875 29.828125 \nQ 18.359375 34.515625 30.609375 34.515625 \nL 43.21875 34.515625 \nL 43.21875 35.40625 \nQ 43.21875 41.609375 39.140625 45 \nQ 35.0625 48.390625 27.6875 48.390625 \nQ 23 48.390625 18.546875 47.265625 \nQ 14.109375 46.140625 10.015625 43.890625 \nL 10.015625 52.203125 \nQ 14.9375 54.109375 19.578125 55.046875 \nQ 24.21875 56 28.609375 56 \nQ 40.484375 56 46.34375 49.84375 \nQ 52.203125 43.703125 52.203125 31.203125 \nz\n\" id=\"DejaVuSans-97\"/>\n     <path d=\"M 9.078125 75.984375 \nL 18.109375 75.984375 \nL 18.109375 31.109375 \nL 44.921875 54.6875 \nL 56.390625 54.6875 \nL 27.390625 29.109375 \nL 57.625 0 \nL 45.90625 0 \nL 18.109375 26.703125 \nL 18.109375 0 \nL 9.078125 0 \nz\n\" id=\"DejaVuSans-107\"/>\n    </defs>\n    <g transform=\"translate(249.99169 62.557781)scale(0.1 -0.1)\">\n     <use xlink:href=\"#DejaVuSans-112\"/>\n     <use x=\"63.476562\" xlink:href=\"#DejaVuSans-101\"/>\n     <use x=\"125\" xlink:href=\"#DejaVuSans-114\"/>\n     <use x=\"166.082031\" xlink:href=\"#DejaVuSans-99\"/>\n     <use x=\"221.0625\" xlink:href=\"#DejaVuSans-101\"/>\n     <use x=\"282.585938\" xlink:href=\"#DejaVuSans-110\"/>\n     <use x=\"345.964844\" xlink:href=\"#DejaVuSans-116\"/>\n     <use x=\"385.173828\" xlink:href=\"#DejaVuSans-95\"/>\n     <use x=\"435.173828\" xlink:href=\"#DejaVuSans-98\"/>\n     <use x=\"498.650391\" xlink:href=\"#DejaVuSans-108\"/>\n     <use x=\"526.433594\" xlink:href=\"#DejaVuSans-97\"/>\n     <use x=\"587.712891\" xlink:href=\"#DejaVuSans-99\"/>\n     <use x=\"642.693359\" xlink:href=\"#DejaVuSans-107\"/>\n    </g>\n   </g>\n   <g id=\"text_2\">\n    <!-- percent_white -->\n    <defs>\n     <path d=\"M 4.203125 54.6875 \nL 13.1875 54.6875 \nL 24.421875 12.015625 \nL 35.59375 54.6875 \nL 46.1875 54.6875 \nL 57.421875 12.015625 \nL 68.609375 54.6875 \nL 77.59375 54.6875 \nL 63.28125 0 \nL 52.6875 0 \nL 40.921875 44.828125 \nL 29.109375 0 \nL 18.5 0 \nz\n\" id=\"DejaVuSans-119\"/>\n     <path d=\"M 54.890625 33.015625 \nL 54.890625 0 \nL 45.90625 0 \nL 45.90625 32.71875 \nQ 45.90625 40.484375 42.875 44.328125 \nQ 39.84375 48.1875 33.796875 48.1875 \nQ 26.515625 48.1875 22.3125 43.546875 \nQ 18.109375 38.921875 18.109375 30.90625 \nL 18.109375 0 \nL 9.078125 0 \nL 9.078125 75.984375 \nL 18.109375 75.984375 \nL 18.109375 46.1875 \nQ 21.34375 51.125 25.703125 53.5625 \nQ 30.078125 56 35.796875 56 \nQ 45.21875 56 50.046875 50.171875 \nQ 54.890625 44.34375 54.890625 33.015625 \nz\n\" id=\"DejaVuSans-104\"/>\n     <path d=\"M 9.421875 54.6875 \nL 18.40625 54.6875 \nL 18.40625 0 \nL 9.421875 0 \nz\nM 9.421875 75.984375 \nL 18.40625 75.984375 \nL 18.40625 64.59375 \nL 9.421875 64.59375 \nz\n\" id=\"DejaVuSans-105\"/>\n    </defs>\n    <g transform=\"translate(7.2 134.571121)scale(0.1 -0.1)\">\n     <use xlink:href=\"#DejaVuSans-112\"/>\n     <use x=\"63.476562\" xlink:href=\"#DejaVuSans-101\"/>\n     <use x=\"125\" xlink:href=\"#DejaVuSans-114\"/>\n     <use x=\"166.082031\" xlink:href=\"#DejaVuSans-99\"/>\n     <use x=\"221.0625\" xlink:href=\"#DejaVuSans-101\"/>\n     <use x=\"282.585938\" xlink:href=\"#DejaVuSans-110\"/>\n     <use x=\"345.964844\" xlink:href=\"#DejaVuSans-116\"/>\n     <use x=\"385.173828\" xlink:href=\"#DejaVuSans-95\"/>\n     <use x=\"435.173828\" xlink:href=\"#DejaVuSans-119\"/>\n     <use x=\"516.960938\" xlink:href=\"#DejaVuSans-104\"/>\n     <use x=\"580.339844\" xlink:href=\"#DejaVuSans-105\"/>\n     <use x=\"608.123047\" xlink:href=\"#DejaVuSans-116\"/>\n     <use x=\"647.332031\" xlink:href=\"#DejaVuSans-101\"/>\n    </g>\n   </g>\n   <g id=\"text_3\">\n    <!-- percent_asian -->\n    <defs>\n     <path d=\"M 44.28125 53.078125 \nL 44.28125 44.578125 \nQ 40.484375 46.53125 36.375 47.5 \nQ 32.28125 48.484375 27.875 48.484375 \nQ 21.1875 48.484375 17.84375 46.4375 \nQ 14.5 44.390625 14.5 40.28125 \nQ 14.5 37.15625 16.890625 35.375 \nQ 19.28125 33.59375 26.515625 31.984375 \nL 29.59375 31.296875 \nQ 39.15625 29.25 43.1875 25.515625 \nQ 47.21875 21.78125 47.21875 15.09375 \nQ 47.21875 7.46875 41.1875 3.015625 \nQ 35.15625 -1.421875 24.609375 -1.421875 \nQ 20.21875 -1.421875 15.453125 -0.5625 \nQ 10.6875 0.296875 5.421875 2 \nL 5.421875 11.28125 \nQ 10.40625 8.6875 15.234375 7.390625 \nQ 20.0625 6.109375 24.8125 6.109375 \nQ 31.15625 6.109375 34.5625 8.28125 \nQ 37.984375 10.453125 37.984375 14.40625 \nQ 37.984375 18.0625 35.515625 20.015625 \nQ 33.0625 21.96875 24.703125 23.78125 \nL 21.578125 24.515625 \nQ 13.234375 26.265625 9.515625 29.90625 \nQ 5.8125 33.546875 5.8125 39.890625 \nQ 5.8125 47.609375 11.28125 51.796875 \nQ 16.75 56 26.8125 56 \nQ 31.78125 56 36.171875 55.265625 \nQ 40.578125 54.546875 44.28125 53.078125 \nz\n\" id=\"DejaVuSans-115\"/>\n    </defs>\n    <g transform=\"translate(237.943323 188.242679)scale(0.1 -0.1)\">\n     <use xlink:href=\"#DejaVuSans-112\"/>\n     <use x=\"63.476562\" xlink:href=\"#DejaVuSans-101\"/>\n     <use x=\"125\" xlink:href=\"#DejaVuSans-114\"/>\n     <use x=\"166.082031\" xlink:href=\"#DejaVuSans-99\"/>\n     <use x=\"221.0625\" xlink:href=\"#DejaVuSans-101\"/>\n     <use x=\"282.585938\" xlink:href=\"#DejaVuSans-110\"/>\n     <use x=\"345.964844\" xlink:href=\"#DejaVuSans-116\"/>\n     <use x=\"385.173828\" xlink:href=\"#DejaVuSans-95\"/>\n     <use x=\"435.173828\" xlink:href=\"#DejaVuSans-97\"/>\n     <use x=\"496.453125\" xlink:href=\"#DejaVuSans-115\"/>\n     <use x=\"548.552734\" xlink:href=\"#DejaVuSans-105\"/>\n     <use x=\"576.335938\" xlink:href=\"#DejaVuSans-97\"/>\n     <use x=\"637.615234\" xlink:href=\"#DejaVuSans-110\"/>\n    </g>\n   </g>\n   <g id=\"text_4\">\n    <!-- percent_hispanic -->\n    <g transform=\"translate(261.964701 152.19807)scale(0.1 -0.1)\">\n     <use xlink:href=\"#DejaVuSans-112\"/>\n     <use x=\"63.476562\" xlink:href=\"#DejaVuSans-101\"/>\n     <use x=\"125\" xlink:href=\"#DejaVuSans-114\"/>\n     <use x=\"166.082031\" xlink:href=\"#DejaVuSans-99\"/>\n     <use x=\"221.0625\" xlink:href=\"#DejaVuSans-101\"/>\n     <use x=\"282.585938\" xlink:href=\"#DejaVuSans-110\"/>\n     <use x=\"345.964844\" xlink:href=\"#DejaVuSans-116\"/>\n     <use x=\"385.173828\" xlink:href=\"#DejaVuSans-95\"/>\n     <use x=\"435.173828\" xlink:href=\"#DejaVuSans-104\"/>\n     <use x=\"498.552734\" xlink:href=\"#DejaVuSans-105\"/>\n     <use x=\"526.335938\" xlink:href=\"#DejaVuSans-115\"/>\n     <use x=\"578.435547\" xlink:href=\"#DejaVuSans-112\"/>\n     <use x=\"641.912109\" xlink:href=\"#DejaVuSans-97\"/>\n     <use x=\"703.191406\" xlink:href=\"#DejaVuSans-110\"/>\n     <use x=\"766.570312\" xlink:href=\"#DejaVuSans-105\"/>\n     <use x=\"794.353516\" xlink:href=\"#DejaVuSans-99\"/>\n    </g>\n   </g>\n  </g>\n </g>\n</svg>\n",
      "image/png": "[encoded data removed]"
     },
     "metadata": {}
    }
   ],
   "source": [
    "plt.pie(size, labels = lala)\n",
    "plt.show()"
   ]
  },
  {
   "cell_type": "code",
   "execution_count": null,
   "metadata": {},
   "outputs": [],
   "source": []
  }
 ],
 "metadata": {
  "kernelspec": {
   "name": "python374jvsc74a57bd0dca0ade3e726a953b501b15e8e990130d2b7799f14cfd9f4271676035ebe5511",
   "display_name": "Python 3.7.4 64-bit ('base': conda)"
  },
  "language_info": {
   "codemirror_mode": {
    "name": "ipython",
    "version": 3
   },
   "file_extension": ".py",
   "mimetype": "text/x-python",
   "name": "python",
   "nbconvert_exporter": "python",
   "pygments_lexer": "ipython3",
   "version": "3.7.4"
  },
  "metadata": {
   "interpreter": {
    "hash": "aee8b7b246df8f9039afb4144a1f6fd8d2ca17a180786b69acc140d282b71a49"
   }
  }
 },
 "nbformat": 4,
 "nbformat_minor": 4
}
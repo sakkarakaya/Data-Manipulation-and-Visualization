{
 "cells": [
  {
   "cell_type": "code",
   "execution_count": null,
   "metadata": {},
   "outputs": [],
   "source": [
    "#Import the dataset and print the first 20 rows\n",
    "import pandas as pd\n",
    "covid_data= pd.read_csv('03-17-2020.csv')\n",
    "covid_data.head(20)"
   ]
  },
  {
   "cell_type": "code",
   "execution_count": null,
   "metadata": {},
   "outputs": [],
   "source": [
    "#Import the dataset and print the last 20 rows\n",
    "covid_data.tail(20)"
   ]
  },
  {
   "cell_type": "code",
   "execution_count": null,
   "metadata": {},
   "outputs": [],
   "source": [
    "#Use the function describe to get some information\n",
    "print(covid_data.describe())"
   ]
  },
  {
   "cell_type": "code",
   "execution_count": null,
   "metadata": {},
   "outputs": [],
   "source": [
    "#Use the function describe() to get some information on the \"Confirmed\" column\n",
    "covid_data[['Confirmed']].describe()"
   ]
  },
  {
   "cell_type": "code",
   "execution_count": null,
   "metadata": {},
   "outputs": [],
   "source": [
    "#Create a new DataFrame that has only the Chinese province withe the cases of confirmed, deaths and recovered\n",
    "c_data = covid_data[covid_data['Country/Region']=='China']\n",
    "c_data = c_data[['Province/State', 'Confirmed', 'Deaths', 'Recovered']].reset_index(drop=True)\n",
    "print(c_data)"
   ]
  },
  {
   "cell_type": "code",
   "execution_count": null,
   "metadata": {},
   "outputs": [],
   "source": [
    "# Create a new column for the active cases with the name \"active\"\n",
    "covid_data['Active'] = covid_data['Confirmed'] - covid_data['Deaths'] - covid_data['Recovered']\n",
    "pd.set_option('display.max_rows', None)\n",
    "covid_data"
   ]
  },
  {
   "cell_type": "code",
   "execution_count": null,
   "metadata": {},
   "outputs": [],
   "source": [
    "#Create a new DataFrame with the following rows: Country/Region, Confirmed, Recovered, Active. use groupby function and sum() to get rid of Province/State column\n",
    "result = covid_data.groupby('Country/Region')['Confirmed', 'Deaths', 'Recovered', 'Active'].sum()\n",
    "print(result)"
   ]
  },
  {
   "cell_type": "code",
   "execution_count": null,
   "metadata": {},
   "outputs": [],
   "source": [
    "#Write a Python program to get the latest number of confirmed, deaths and recovered people of Novel Coronavirus (COVID-19) \n",
    "data = covid_data.groupby(['Country/Region', 'Province/State'])['Confirmed', 'Deaths', 'Recovered'].sum()\n",
    "print(data)"
   ]
  },
  {
   "cell_type": "code",
   "execution_count": null,
   "metadata": {},
   "outputs": [],
   "source": [
    "#show the countries which only them have deaths cases.\n",
    "data = covid_data.groupby('Country/Region')['Confirmed', 'Deaths', 'Recovered'].sum().reset_index()\n",
    "result = data[data['Deaths']>0][['Country/Region', 'Deaths']].reset_index(drop=True)\n",
    "print(result)"
   ]
  },
  {
   "cell_type": "code",
   "execution_count": null,
   "metadata": {},
   "outputs": [],
   "source": [
    "#Write a Python program to list countries with no cases of Novel Coronavirus (COVID-19) recovered.\n",
    "data = covid_data.groupby('Country/Region')['Confirmed', 'Deaths', 'Recovered'].sum().reset_index()\n",
    "result = data[data['Recovered']==0][['Country/Region', 'Confirmed', 'Deaths', 'Recovered']]\n",
    "print(result)"
   ]
  },
  {
   "cell_type": "code",
   "execution_count": null,
   "metadata": {},
   "outputs": [],
   "source": [
    "#get the top 10 countries by confirmed cases. Columns needed (Country/Region, Confirmed, Deaths, Recovered)\n",
    "result = covid_data.groupby('Country/Region')['Confirmed','Deaths','Recovered'].sum()\n",
    "result=result.sort_values(by='Confirmed', ascending=False)[:10]\n",
    "print(result)"
   ]
  },
  {
   "cell_type": "code",
   "execution_count": null,
   "metadata": {},
   "outputs": [],
   "source": [
    "#visualize the state/province wise Confirmed cases of Novel Coronavirus (COVID-19) in USA.\n",
    "import matplotlib.pyplot as plt\n",
    "us_data = covid_data[covid_data['Country/Region']=='US']\n",
    "us_data=us_data[['Province/State','Confirmed']].reset_index(drop=True)\n",
    "ax = us_data.plot(x='Province/State', y='Confirmed', kind='bar', figsize=(20,8),fontsize=20)\n",
    "ax.set_xlabel(\"States\",fontsize=20,color='blue')\n",
    "ax.set_ylabel(\"Number of Confirmed Cases\",fontsize=20,color='red')\n",
    "plt.suptitle('Number of Confirmed COVID-19 Cases in the US', fontsize=30,color=\"green\")\n",
    "plt.ylim(0,1800)\n",
    "plt.show()"
   ]
  },
  {
   "cell_type": "code",
   "execution_count": null,
   "metadata": {},
   "outputs": [],
   "source": [
    "#visualize the state/province wise Confirmed cases of Novel Coronavirus (COVID-19) in USA. >100\n",
    "import matplotlib.pyplot as plt\n",
    "us_data = covid_data[covid_data['Country/Region']=='US']\n",
    "us_data=us_data[['Province/State','Confirmed']].reset_index(drop=True)\n",
    "us_data=us_data[us_data['Confirmed']>100]\n",
    "ax = us_data.plot(x='Province/State', y='Confirmed', kind='bar', figsize=(20,8),fontsize=20)\n",
    "ax.set_xlabel(\"States\",fontsize=20,color='blue')\n",
    "ax.set_ylabel(\"Number of Confirmed Cases\",fontsize=20,color='red')\n",
    "plt.suptitle('Number of Confirmed COVID-19 Cases in the US: Confirmed > 100', fontsize=30,color=\"green\")\n",
    "plt.ylim(0,1800)\n",
    "plt.show()\n",
    "\n"
   ]
  },
  {
   "cell_type": "code",
   "execution_count": null,
   "metadata": {},
   "outputs": [],
   "source": [
    "#create a plot (lines) of total deaths, confirmed, recovered and active cases Country wise where deaths greater than 150.\n",
    "import matplotlib.pyplot as plt\n",
    "r_data = covid_data.groupby([\"Country/Region\"])[\"Deaths\", \"Confirmed\", \"Recovered\", \"Active\"].sum().reset_index()\n",
    "r_data = r_data.sort_values(by='Deaths', ascending=False)\n",
    "r_data = r_data[r_data['Deaths']>50]\n",
    "plt.figure(figsize=(15, 5))\n",
    "plt.plot(r_data['Country/Region'], r_data['Deaths'],color='red',label='Deaths')\n",
    "plt.plot(r_data['Country/Region'], r_data['Confirmed'],color='green',label='Confirmed')\n",
    "plt.plot(r_data['Country/Region'], r_data['Recovered'], color='blue',label='Recovered')\n",
    "plt.plot(r_data['Country/Region'], r_data['Active'], color='black',label='Active')\n",
    "plt.legend(loc='upper right', frameon=False) \n",
    "plt.title('Total Deaths(>50), Confirmed, Recovered and Active Cases by Country')\n",
    "plt.show()"
   ]
  },
  {
   "cell_type": "code",
   "execution_count": null,
   "metadata": {},
   "outputs": [],
   "source": []
  }
 ],
 "metadata": {
  "kernelspec": {
   "display_name": "Python 3",
   "language": "python",
   "name": "python3"
  },
  "language_info": {
   "codemirror_mode": {
    "name": "ipython",
    "version": 3
   },
   "file_extension": ".py",
   "mimetype": "text/x-python",
   "name": "python",
   "nbconvert_exporter": "python",
   "pygments_lexer": "ipython3",
   "version": "3.7.6"
  }
 },
 "nbformat": 4,
 "nbformat_minor": 4
}
